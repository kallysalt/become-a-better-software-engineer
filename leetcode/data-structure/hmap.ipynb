{
 "cells": [
  {
   "cell_type": "code",
   "execution_count": 52,
   "metadata": {},
   "outputs": [],
   "source": [
    "\n",
    "# create hashmap (dict)\n",
    "\n",
    "hmap = {}\n"
   ]
  },
  {
   "cell_type": "markdown",
   "metadata": {},
   "source": []
  },
  {
   "cell_type": "code",
   "execution_count": 53,
   "metadata": {},
   "outputs": [
    {
     "name": "stdout",
     "output_type": "stream",
     "text": [
      "{'1': 'hanmeimei', '2': 'lihua', '3': 'siyangyuan', '4': 'aixuexi'}\n"
     ]
    }
   ],
   "source": [
    "# add element\n",
    "# time complexity: O(1)\n",
    "\n",
    "hmap['1'] = 'hanmeimei'\n",
    "hmap['2'] = 'lihua'\n",
    "hmap['3'] = 'siyangyuan'\n",
    "hmap['4'] = 'aixuexi'\n",
    "print(hmap)\n"
   ]
  },
  {
   "cell_type": "markdown",
   "metadata": {},
   "source": []
  },
  {
   "cell_type": "code",
   "execution_count": 54,
   "metadata": {},
   "outputs": [
    {
     "name": "stdout",
     "output_type": "stream",
     "text": [
      "{'1': 'liuxing', '2': 'lihua', '3': 'siyangyuan', '4': 'aixuexi'}\n"
     ]
    }
   ],
   "source": [
    "# update element\n",
    "# time Complexity: O(1)\n",
    "\n",
    "hmap['1'] = 'liuxing'\n",
    "print(hmap)\n"
   ]
  },
  {
   "cell_type": "code",
   "execution_count": 55,
   "metadata": {},
   "outputs": [
    {
     "name": "stdout",
     "output_type": "stream",
     "text": [
      "{'2': 'lihua', '3': 'siyangyuan', '4': 'aixuexi'}\n",
      "{'3': 'siyangyuan', '4': 'aixuexi'}\n"
     ]
    }
   ],
   "source": [
    "# remove element\n",
    "# Time Complexity: O(1)\n",
    "\n",
    "hmap.pop('1')\n",
    "print(hmap)\n",
    "\n",
    "# alternatively\n",
    "del hmap['2']\n",
    "print(hmap)\n"
   ]
  },
  {
   "cell_type": "markdown",
   "metadata": {},
   "source": []
  },
  {
   "cell_type": "code",
   "execution_count": 56,
   "metadata": {},
   "outputs": [
    {
     "name": "stdout",
     "output_type": "stream",
     "text": [
      "siyangyuan\n"
     ]
    }
   ],
   "source": [
    "# get value (given key)\n",
    "# time complexity: O(1)\n",
    "\n",
    "print(hmap['3'])\n"
   ]
  },
  {
   "cell_type": "markdown",
   "metadata": {},
   "source": []
  },
  {
   "cell_type": "code",
   "execution_count": 57,
   "metadata": {},
   "outputs": [
    {
     "name": "stdout",
     "output_type": "stream",
     "text": [
      "True\n"
     ]
    }
   ],
   "source": [
    "# check if key exists\n",
    "# time complexity: O(1)\n",
    "\n",
    "print('3' in hmap)\n"
   ]
  },
  {
   "cell_type": "markdown",
   "metadata": {},
   "source": []
  },
  {
   "cell_type": "code",
   "execution_count": 58,
   "metadata": {},
   "outputs": [
    {
     "name": "stdout",
     "output_type": "stream",
     "text": [
      "2\n",
      "False\n"
     ]
    }
   ],
   "source": [
    "# get length\n",
    "# time complexity: O(1)\n",
    "n = len(hmap)\n",
    "print(n)\n",
    "\n",
    "# is empty\n",
    "# time complexity: O(1)\n",
    "\n",
    "print(len(hmap) == 0)\n"
   ]
  },
  {
   "cell_type": "code",
   "execution_count": 59,
   "metadata": {},
   "outputs": [
    {
     "name": "stdout",
     "output_type": "stream",
     "text": [
      "3\n",
      "4\n",
      "3\n",
      "4\n"
     ]
    }
   ],
   "source": [
    "# iterate over keys\n",
    "\n",
    "for key in hmap:\n",
    "    print(key)\n",
    "    \n",
    "for key in hmap.keys():\n",
    "    print(key)\n",
    "    "
   ]
  },
  {
   "cell_type": "markdown",
   "metadata": {},
   "source": []
  },
  {
   "cell_type": "code",
   "execution_count": 60,
   "metadata": {},
   "outputs": [
    {
     "name": "stdout",
     "output_type": "stream",
     "text": [
      "siyangyuan\n",
      "aixuexi\n"
     ]
    }
   ],
   "source": [
    "# iterate over values\n",
    "\n",
    "for val in hmap.values():\n",
    "    print(val)\n",
    "    "
   ]
  },
  {
   "cell_type": "markdown",
   "metadata": {},
   "source": []
  },
  {
   "cell_type": "code",
   "execution_count": 61,
   "metadata": {},
   "outputs": [
    {
     "name": "stdout",
     "output_type": "stream",
     "text": [
      "3\n",
      "siyangyuan\n",
      "4\n",
      "aixuexi\n"
     ]
    }
   ],
   "source": [
    "# iterate over both\n",
    "\n",
    "for k,v in hmap.items():\n",
    "    print(k)\n",
    "    print(v)"
   ]
  }
 ],
 "metadata": {
  "kernelspec": {
   "display_name": "Python 3",
   "language": "python",
   "name": "python3"
  },
  "language_info": {
   "codemirror_mode": {
    "name": "ipython",
    "version": 3
   },
   "file_extension": ".py",
   "mimetype": "text/x-python",
   "name": "python",
   "nbconvert_exporter": "python",
   "pygments_lexer": "ipython3",
   "version": "3.11.8"
  }
 },
 "nbformat": 4,
 "nbformat_minor": 2
}
