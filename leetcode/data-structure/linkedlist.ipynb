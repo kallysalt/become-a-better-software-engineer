{
 "cells": [
  {
   "cell_type": "code",
   "execution_count": null,
   "metadata": {},
   "outputs": [],
   "source": [
    "# create an linked list\n",
    "\n",
    "from collections import deque\n",
    "linkedlist = deque()\n",
    "print(linkedlist)\n",
    "\n",
    "# add element\n",
    "# time complexity: O(1)\n",
    "linkedlist.append(1)\n",
    "linkedlist.append(2)\n",
    "linkedlist.append(3)\n",
    "print(linkedlist)"
   ]
  },
  {
   "cell_type": "markdown",
   "metadata": {},
   "source": []
  },
  {
   "cell_type": "code",
   "execution_count": null,
   "metadata": {},
   "outputs": [],
   "source": [
    "# insert element\n",
    "# time complexity: O(N)\n",
    "\n",
    "linkedlist.insert(2, 99)\n",
    "print(linkedlist)"
   ]
  },
  {
   "cell_type": "markdown",
   "metadata": {},
   "source": []
  },
  {
   "cell_type": "code",
   "execution_count": null,
   "metadata": {},
   "outputs": [],
   "source": [
    "# access element\n",
    "# time complexity: O(N)\n",
    "\n",
    "element = linkedlist[2]\n",
    "print(element)\n",
    "\n",
    "# get length\n",
    "# time complexity: O(1)\n",
    "\n",
    "length = len(linkedlist)\n",
    "print(length)"
   ]
  },
  {
   "cell_type": "markdown",
   "metadata": {},
   "source": []
  },
  {
   "cell_type": "code",
   "execution_count": null,
   "metadata": {},
   "outputs": [],
   "source": [
    "# search element\n",
    "# time complexity: O(N)\n",
    "\n",
    "index = linkedlist.index(99)\n",
    "print(index)"
   ]
  },
  {
   "cell_type": "markdown",
   "metadata": {},
   "source": []
  },
  {
   "cell_type": "code",
   "execution_count": null,
   "metadata": {},
   "outputs": [],
   "source": [
    "# update element\n",
    "# time complexity: O(N)\n",
    "\n",
    "linkedlist[2] = 88\n",
    "print(linkedlist)"
   ]
  },
  {
   "cell_type": "markdown",
   "metadata": {},
   "source": []
  },
  {
   "cell_type": "code",
   "execution_count": null,
   "metadata": {},
   "outputs": [],
   "source": [
    "# remove element\n",
    "# time complexity: O(N)\n",
    "\n",
    "linkedlist.remove(88)\n",
    "print(linkedlist)\n",
    "\n",
    "del linkedlist[1]\n",
    "print(linkedlist)"
   ]
  }
 ],
 "metadata": {
  "kernelspec": {
   "display_name": "Python 3",
   "language": "python",
   "name": "python3"
  },
  "language_info": {
   "codemirror_mode": {
    "name": "ipython",
    "version": 3
   },
   "file_extension": ".py",
   "mimetype": "text/x-python",
   "name": "python",
   "nbconvert_exporter": "python",
   "pygments_lexer": "ipython3",
   "version": "3.11.8"
  }
 },
 "nbformat": 4,
 "nbformat_minor": 2
}
