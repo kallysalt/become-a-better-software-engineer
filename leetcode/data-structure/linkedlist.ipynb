{
 "cells": [
  {
   "cell_type": "code",
   "execution_count": 1,
   "metadata": {},
   "outputs": [
    {
     "name": "stdout",
     "output_type": "stream",
     "text": [
      "deque([])\n",
      "deque([1, 2, 3])\n"
     ]
    }
   ],
   "source": [
    "# create an linked list\n",
    "\n",
    "from collections import deque\n",
    "linkedlist = deque()\n",
    "print(linkedlist)\n",
    "\n",
    "# add element\n",
    "# time complexity: O(1)\n",
    "linkedlist.append(1)\n",
    "linkedlist.append(2)\n",
    "linkedlist.append(3)\n",
    "print(linkedlist)"
   ]
  },
  {
   "cell_type": "markdown",
   "metadata": {},
   "source": []
  },
  {
   "cell_type": "code",
   "execution_count": 2,
   "metadata": {},
   "outputs": [
    {
     "name": "stdout",
     "output_type": "stream",
     "text": [
      "deque([1, 2, 99, 3])\n"
     ]
    }
   ],
   "source": [
    "# insert element\n",
    "# time complexity: O(N)\n",
    "\n",
    "linkedlist.insert(2, 99)\n",
    "print(linkedlist)"
   ]
  },
  {
   "cell_type": "markdown",
   "metadata": {},
   "source": []
  },
  {
   "cell_type": "code",
   "execution_count": 3,
   "metadata": {},
   "outputs": [
    {
     "name": "stdout",
     "output_type": "stream",
     "text": [
      "99\n",
      "4\n"
     ]
    }
   ],
   "source": [
    "# access element\n",
    "# time complexity: O(N)\n",
    "\n",
    "element = linkedlist[2]\n",
    "print(element)\n",
    "\n",
    "# get length\n",
    "# time complexity: O(1)\n",
    "\n",
    "length = len(linkedlist)\n",
    "print(length)"
   ]
  },
  {
   "cell_type": "markdown",
   "metadata": {},
   "source": []
  },
  {
   "cell_type": "code",
   "execution_count": 4,
   "metadata": {},
   "outputs": [
    {
     "name": "stdout",
     "output_type": "stream",
     "text": [
      "2\n"
     ]
    }
   ],
   "source": [
    "# search element\n",
    "# time complexity: O(N)\n",
    "\n",
    "index = linkedlist.index(99)\n",
    "print(index)"
   ]
  },
  {
   "cell_type": "markdown",
   "metadata": {},
   "source": []
  },
  {
   "cell_type": "code",
   "execution_count": 5,
   "metadata": {},
   "outputs": [
    {
     "name": "stdout",
     "output_type": "stream",
     "text": [
      "deque([1, 2, 88, 3])\n"
     ]
    }
   ],
   "source": [
    "# update element\n",
    "# time complexity: O(N)\n",
    "\n",
    "linkedlist[2] = 88\n",
    "print(linkedlist)"
   ]
  },
  {
   "cell_type": "markdown",
   "metadata": {},
   "source": []
  },
  {
   "cell_type": "code",
   "execution_count": 6,
   "metadata": {},
   "outputs": [
    {
     "name": "stdout",
     "output_type": "stream",
     "text": [
      "deque([1, 2, 3])\n",
      "deque([1, 3])\n"
     ]
    }
   ],
   "source": [
    "# remove element\n",
    "# time complexity: O(N)\n",
    "\n",
    "linkedlist.remove(88)\n",
    "print(linkedlist)\n",
    "\n",
    "del linkedlist[1]\n",
    "print(linkedlist)"
   ]
  }
 ],
 "metadata": {
  "kernelspec": {
   "display_name": "Python 3",
   "language": "python",
   "name": "python3"
  },
  "language_info": {
   "codemirror_mode": {
    "name": "ipython",
    "version": 3
   },
   "file_extension": ".py",
   "mimetype": "text/x-python",
   "name": "python",
   "nbconvert_exporter": "python",
   "pygments_lexer": "ipython3",
   "version": "3.11.8"
  }
 },
 "nbformat": 4,
 "nbformat_minor": 2
}
