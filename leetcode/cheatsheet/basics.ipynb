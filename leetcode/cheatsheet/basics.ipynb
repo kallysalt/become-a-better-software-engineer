{
 "cells": [
  {
   "cell_type": "code",
   "execution_count": null,
   "metadata": {},
   "outputs": [],
   "source": [
    "# create a list（dynamic array)\n",
    "\n",
    "a = []"
   ]
  },
  {
   "cell_type": "code",
   "execution_count": 94,
   "metadata": {},
   "outputs": [
    {
     "name": "stdout",
     "output_type": "stream",
     "text": [
      "[1, 2, 3]\n"
     ]
    }
   ],
   "source": [
    "# append element\n",
    "# time complexity: O(1)\n",
    "\n",
    "a.append(1)\n",
    "a.append(2)\n",
    "a.append(3)\n",
    "\n",
    "print(a)"
   ]
  },
  {
   "cell_type": "code",
   "execution_count": 95,
   "metadata": {},
   "outputs": [
    {
     "name": "stdout",
     "output_type": "stream",
     "text": [
      "[1, 2, 99, 3]\n"
     ]
    }
   ],
   "source": [
    "# insert element\n",
    "# time complexity: O(N)\n",
    "\n",
    "a.insert(2, 99)\n",
    "\n",
    "print(a)"
   ]
  },
  {
   "cell_type": "code",
   "execution_count": 96,
   "metadata": {},
   "outputs": [
    {
     "name": "stdout",
     "output_type": "stream",
     "text": [
      "99\n"
     ]
    }
   ],
   "source": [
    "# access element\n",
    "# time complexity: O(1)\n",
    "\n",
    "tmp = a[2]\n",
    "\n",
    "print(tmp)"
   ]
  },
  {
   "cell_type": "code",
   "execution_count": 97,
   "metadata": {},
   "outputs": [
    {
     "name": "stdout",
     "output_type": "stream",
     "text": [
      "[1, 2, 88, 88]\n"
     ]
    }
   ],
   "source": [
    "# update element\n",
    "# time complexity: O(1)\n",
    "\n",
    "a[2] = 88\n",
    "a[3] = 88\n",
    "\n",
    "print(a)"
   ]
  },
  {
   "cell_type": "code",
   "execution_count": 98,
   "metadata": {},
   "outputs": [
    {
     "name": "stdout",
     "output_type": "stream",
     "text": [
      "[1, 2, 88]\n"
     ]
    }
   ],
   "source": [
    "# remove element by value (only the first occurance)\n",
    "# time complexity: O(N)\n",
    "\n",
    "a.remove(88)\n",
    "\n",
    "print(a)"
   ]
  },
  {
   "cell_type": "code",
   "execution_count": 99,
   "metadata": {},
   "outputs": [
    {
     "name": "stdout",
     "output_type": "stream",
     "text": [
      "[]\n"
     ]
    }
   ],
   "source": [
    "# remove element by index\n",
    "# time complexity: O(1)\n",
    "\n",
    "a.pop(1) # element at index 1\n",
    "\n",
    "a.pop() # last element\n",
    "a.pop(-1) # last element\n",
    "\n",
    "print(a)"
   ]
  },
  {
   "cell_type": "code",
   "execution_count": 100,
   "metadata": {},
   "outputs": [
    {
     "name": "stdout",
     "output_type": "stream",
     "text": [
      "3\n"
     ]
    }
   ],
   "source": [
    "# get array size\n",
    "# time complexity: O(1)\n",
    "\n",
    "a = [1,2,3]\n",
    "size = len(a)\n",
    "\n",
    "print(size)"
   ]
  },
  {
   "cell_type": "code",
   "execution_count": 101,
   "metadata": {},
   "outputs": [
    {
     "name": "stdout",
     "output_type": "stream",
     "text": [
      "1\n",
      "2\n",
      "3\n",
      "\n",
      "index 0 : value =  1\n",
      "index 1 : value =  2\n",
      "index 2 : value =  3\n"
     ]
    }
   ],
   "source": [
    "# iterate array\n",
    "# time complexity: O(N)\n",
    "\n",
    "for i in a:\n",
    "    print(i)\n",
    "print()\n",
    "    \n",
    "for i, v in enumerate(a):\n",
    "    print(\"index\", i, \": value = \", v)"
   ]
  },
  {
   "cell_type": "code",
   "execution_count": 102,
   "metadata": {},
   "outputs": [
    {
     "name": "stdout",
     "output_type": "stream",
     "text": [
      "1\n"
     ]
    }
   ],
   "source": [
    "# find an element\n",
    "# time complexity: O(N)\n",
    "\n",
    "idx = a.index(2)\n",
    "\n",
    "print(idx)"
   ]
  },
  {
   "cell_type": "code",
   "execution_count": 103,
   "metadata": {},
   "outputs": [
    {
     "name": "stdout",
     "output_type": "stream",
     "text": [
      "[1, 2, 3]\n"
     ]
    }
   ],
   "source": [
    "# sort an array (from small to big)\n",
    "# time complexity: O(NlogN)\n",
    "\n",
    "a = [3,1,2]\n",
    "a.sort()\n",
    "\n",
    "print(a)\n"
   ]
  },
  {
   "cell_type": "code",
   "execution_count": 104,
   "metadata": {},
   "outputs": [
    {
     "name": "stdout",
     "output_type": "stream",
     "text": [
      "[3, 2, 1]\n"
     ]
    }
   ],
   "source": [
    "# sort an array (from big to small)\n",
    "\n",
    "a.sort(reverse = True)\n",
    "\n",
    "print(a)"
   ]
  }
 ],
 "metadata": {
  "kernelspec": {
   "display_name": "Python 3",
   "language": "python",
   "name": "python3"
  },
  "language_info": {
   "codemirror_mode": {
    "name": "ipython",
    "version": 3
   },
   "file_extension": ".py",
   "mimetype": "text/x-python",
   "name": "python",
   "nbconvert_exporter": "python",
   "pygments_lexer": "ipython3",
   "version": "3.11.8"
  }
 },
 "nbformat": 4,
 "nbformat_minor": 2
}
